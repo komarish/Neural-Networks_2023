{
  "nbformat": 4,
  "nbformat_minor": 0,
  "metadata": {
    "colab": {
      "provenance": []
    },
    "kernelspec": {
      "name": "python3",
      "display_name": "Python 3"
    },
    "language_info": {
      "name": "python"
    }
  },
  "cells": [
    {
      "cell_type": "code",
      "execution_count": null,
      "metadata": {
        "colab": {
          "base_uri": "https://localhost:8080/"
        },
        "id": "mHfuZXwXsA3p",
        "outputId": "934cfeff-8ef0-46c1-f31c-70a8d0e8a7c1"
      },
      "outputs": [
        {
          "output_type": "stream",
          "name": "stdout",
          "text": [
            "Mounted at /content/gdrive\n"
          ]
        }
      ],
      "source": [
        "from google.colab import drive\n",
        "drive.mount('/content/gdrive')"
      ]
    },
    {
      "cell_type": "code",
      "source": [
        "import pandas as pd\n",
        "import numpy as np\n",
        "import matplotlib.pyplot as plt"
      ],
      "metadata": {
        "id": "FiecPLMrsSIs"
      },
      "execution_count": null,
      "outputs": []
    },
    {
      "cell_type": "code",
      "source": [
        "df = pd.read_csv('/content/gdrive/My Drive/StudyData/temperature.csv')\n",
        "df.head()"
      ],
      "metadata": {
        "colab": {
          "base_uri": "https://localhost:8080/",
          "height": 490
        },
        "id": "4L1OSy5KsSUo",
        "outputId": "6e073c2a-de63-48d9-a36d-0ba5134149dd"
      },
      "execution_count": null,
      "outputs": [
        {
          "output_type": "execute_result",
          "data": {
            "text/plain": [
              "              datetime   Vancouver    Portland  San Francisco     Seattle  \\\n",
              "0  2012-10-01 12:00:00         NaN         NaN            NaN         NaN   \n",
              "1  2012-10-01 13:00:00  284.630000  282.080000     289.480000  281.800000   \n",
              "2  2012-10-01 14:00:00  284.629041  282.083252     289.474993  281.797217   \n",
              "3  2012-10-01 15:00:00  284.626998  282.091866     289.460618  281.789833   \n",
              "4  2012-10-01 16:00:00  284.624955  282.100481     289.446243  281.782449   \n",
              "\n",
              "   Los Angeles   San Diego   Las Vegas     Phoenix  Albuquerque  ...  \\\n",
              "0          NaN         NaN         NaN         NaN          NaN  ...   \n",
              "1   291.870000  291.530000  293.410000  296.600000   285.120000  ...   \n",
              "2   291.868186  291.533501  293.403141  296.608509   285.154558  ...   \n",
              "3   291.862844  291.543355  293.392177  296.631487   285.233952  ...   \n",
              "4   291.857503  291.553209  293.381213  296.654466   285.313345  ...   \n",
              "\n",
              "   Philadelphia    New York    Montreal      Boston   Beersheba  \\\n",
              "0           NaN         NaN         NaN         NaN         NaN   \n",
              "1    285.630000  288.220000  285.830000  287.170000  307.590000   \n",
              "2    285.663208  288.247676  285.834650  287.186092  307.590000   \n",
              "3    285.756824  288.326940  285.847790  287.231672  307.391513   \n",
              "4    285.850440  288.406203  285.860929  287.277251  307.145200   \n",
              "\n",
              "   Tel Aviv District       Eilat  Haifa  Nahariyya  Jerusalem  \n",
              "0                NaN  309.100000    NaN        NaN        NaN  \n",
              "1         305.470000  310.580000  304.4      304.4      303.5  \n",
              "2         304.310000  310.495769  304.4      304.4      303.5  \n",
              "3         304.281841  310.411538  304.4      304.4      303.5  \n",
              "4         304.238015  310.327308  304.4      304.4      303.5  \n",
              "\n",
              "[5 rows x 37 columns]"
            ],
            "text/html": [
              "\n",
              "  <div id=\"df-dfa87c67-927b-4b8e-9f64-f6ba10139534\">\n",
              "    <div class=\"colab-df-container\">\n",
              "      <div>\n",
              "<style scoped>\n",
              "    .dataframe tbody tr th:only-of-type {\n",
              "        vertical-align: middle;\n",
              "    }\n",
              "\n",
              "    .dataframe tbody tr th {\n",
              "        vertical-align: top;\n",
              "    }\n",
              "\n",
              "    .dataframe thead th {\n",
              "        text-align: right;\n",
              "    }\n",
              "</style>\n",
              "<table border=\"1\" class=\"dataframe\">\n",
              "  <thead>\n",
              "    <tr style=\"text-align: right;\">\n",
              "      <th></th>\n",
              "      <th>datetime</th>\n",
              "      <th>Vancouver</th>\n",
              "      <th>Portland</th>\n",
              "      <th>San Francisco</th>\n",
              "      <th>Seattle</th>\n",
              "      <th>Los Angeles</th>\n",
              "      <th>San Diego</th>\n",
              "      <th>Las Vegas</th>\n",
              "      <th>Phoenix</th>\n",
              "      <th>Albuquerque</th>\n",
              "      <th>...</th>\n",
              "      <th>Philadelphia</th>\n",
              "      <th>New York</th>\n",
              "      <th>Montreal</th>\n",
              "      <th>Boston</th>\n",
              "      <th>Beersheba</th>\n",
              "      <th>Tel Aviv District</th>\n",
              "      <th>Eilat</th>\n",
              "      <th>Haifa</th>\n",
              "      <th>Nahariyya</th>\n",
              "      <th>Jerusalem</th>\n",
              "    </tr>\n",
              "  </thead>\n",
              "  <tbody>\n",
              "    <tr>\n",
              "      <th>0</th>\n",
              "      <td>2012-10-01 12:00:00</td>\n",
              "      <td>NaN</td>\n",
              "      <td>NaN</td>\n",
              "      <td>NaN</td>\n",
              "      <td>NaN</td>\n",
              "      <td>NaN</td>\n",
              "      <td>NaN</td>\n",
              "      <td>NaN</td>\n",
              "      <td>NaN</td>\n",
              "      <td>NaN</td>\n",
              "      <td>...</td>\n",
              "      <td>NaN</td>\n",
              "      <td>NaN</td>\n",
              "      <td>NaN</td>\n",
              "      <td>NaN</td>\n",
              "      <td>NaN</td>\n",
              "      <td>NaN</td>\n",
              "      <td>309.100000</td>\n",
              "      <td>NaN</td>\n",
              "      <td>NaN</td>\n",
              "      <td>NaN</td>\n",
              "    </tr>\n",
              "    <tr>\n",
              "      <th>1</th>\n",
              "      <td>2012-10-01 13:00:00</td>\n",
              "      <td>284.630000</td>\n",
              "      <td>282.080000</td>\n",
              "      <td>289.480000</td>\n",
              "      <td>281.800000</td>\n",
              "      <td>291.870000</td>\n",
              "      <td>291.530000</td>\n",
              "      <td>293.410000</td>\n",
              "      <td>296.600000</td>\n",
              "      <td>285.120000</td>\n",
              "      <td>...</td>\n",
              "      <td>285.630000</td>\n",
              "      <td>288.220000</td>\n",
              "      <td>285.830000</td>\n",
              "      <td>287.170000</td>\n",
              "      <td>307.590000</td>\n",
              "      <td>305.470000</td>\n",
              "      <td>310.580000</td>\n",
              "      <td>304.4</td>\n",
              "      <td>304.4</td>\n",
              "      <td>303.5</td>\n",
              "    </tr>\n",
              "    <tr>\n",
              "      <th>2</th>\n",
              "      <td>2012-10-01 14:00:00</td>\n",
              "      <td>284.629041</td>\n",
              "      <td>282.083252</td>\n",
              "      <td>289.474993</td>\n",
              "      <td>281.797217</td>\n",
              "      <td>291.868186</td>\n",
              "      <td>291.533501</td>\n",
              "      <td>293.403141</td>\n",
              "      <td>296.608509</td>\n",
              "      <td>285.154558</td>\n",
              "      <td>...</td>\n",
              "      <td>285.663208</td>\n",
              "      <td>288.247676</td>\n",
              "      <td>285.834650</td>\n",
              "      <td>287.186092</td>\n",
              "      <td>307.590000</td>\n",
              "      <td>304.310000</td>\n",
              "      <td>310.495769</td>\n",
              "      <td>304.4</td>\n",
              "      <td>304.4</td>\n",
              "      <td>303.5</td>\n",
              "    </tr>\n",
              "    <tr>\n",
              "      <th>3</th>\n",
              "      <td>2012-10-01 15:00:00</td>\n",
              "      <td>284.626998</td>\n",
              "      <td>282.091866</td>\n",
              "      <td>289.460618</td>\n",
              "      <td>281.789833</td>\n",
              "      <td>291.862844</td>\n",
              "      <td>291.543355</td>\n",
              "      <td>293.392177</td>\n",
              "      <td>296.631487</td>\n",
              "      <td>285.233952</td>\n",
              "      <td>...</td>\n",
              "      <td>285.756824</td>\n",
              "      <td>288.326940</td>\n",
              "      <td>285.847790</td>\n",
              "      <td>287.231672</td>\n",
              "      <td>307.391513</td>\n",
              "      <td>304.281841</td>\n",
              "      <td>310.411538</td>\n",
              "      <td>304.4</td>\n",
              "      <td>304.4</td>\n",
              "      <td>303.5</td>\n",
              "    </tr>\n",
              "    <tr>\n",
              "      <th>4</th>\n",
              "      <td>2012-10-01 16:00:00</td>\n",
              "      <td>284.624955</td>\n",
              "      <td>282.100481</td>\n",
              "      <td>289.446243</td>\n",
              "      <td>281.782449</td>\n",
              "      <td>291.857503</td>\n",
              "      <td>291.553209</td>\n",
              "      <td>293.381213</td>\n",
              "      <td>296.654466</td>\n",
              "      <td>285.313345</td>\n",
              "      <td>...</td>\n",
              "      <td>285.850440</td>\n",
              "      <td>288.406203</td>\n",
              "      <td>285.860929</td>\n",
              "      <td>287.277251</td>\n",
              "      <td>307.145200</td>\n",
              "      <td>304.238015</td>\n",
              "      <td>310.327308</td>\n",
              "      <td>304.4</td>\n",
              "      <td>304.4</td>\n",
              "      <td>303.5</td>\n",
              "    </tr>\n",
              "  </tbody>\n",
              "</table>\n",
              "<p>5 rows × 37 columns</p>\n",
              "</div>\n",
              "      <button class=\"colab-df-convert\" onclick=\"convertToInteractive('df-dfa87c67-927b-4b8e-9f64-f6ba10139534')\"\n",
              "              title=\"Convert this dataframe to an interactive table.\"\n",
              "              style=\"display:none;\">\n",
              "        \n",
              "  <svg xmlns=\"http://www.w3.org/2000/svg\" height=\"24px\"viewBox=\"0 0 24 24\"\n",
              "       width=\"24px\">\n",
              "    <path d=\"M0 0h24v24H0V0z\" fill=\"none\"/>\n",
              "    <path d=\"M18.56 5.44l.94 2.06.94-2.06 2.06-.94-2.06-.94-.94-2.06-.94 2.06-2.06.94zm-11 1L8.5 8.5l.94-2.06 2.06-.94-2.06-.94L8.5 2.5l-.94 2.06-2.06.94zm10 10l.94 2.06.94-2.06 2.06-.94-2.06-.94-.94-2.06-.94 2.06-2.06.94z\"/><path d=\"M17.41 7.96l-1.37-1.37c-.4-.4-.92-.59-1.43-.59-.52 0-1.04.2-1.43.59L10.3 9.45l-7.72 7.72c-.78.78-.78 2.05 0 2.83L4 21.41c.39.39.9.59 1.41.59.51 0 1.02-.2 1.41-.59l7.78-7.78 2.81-2.81c.8-.78.8-2.07 0-2.86zM5.41 20L4 18.59l7.72-7.72 1.47 1.35L5.41 20z\"/>\n",
              "  </svg>\n",
              "      </button>\n",
              "      \n",
              "  <style>\n",
              "    .colab-df-container {\n",
              "      display:flex;\n",
              "      flex-wrap:wrap;\n",
              "      gap: 12px;\n",
              "    }\n",
              "\n",
              "    .colab-df-convert {\n",
              "      background-color: #E8F0FE;\n",
              "      border: none;\n",
              "      border-radius: 50%;\n",
              "      cursor: pointer;\n",
              "      display: none;\n",
              "      fill: #1967D2;\n",
              "      height: 32px;\n",
              "      padding: 0 0 0 0;\n",
              "      width: 32px;\n",
              "    }\n",
              "\n",
              "    .colab-df-convert:hover {\n",
              "      background-color: #E2EBFA;\n",
              "      box-shadow: 0px 1px 2px rgba(60, 64, 67, 0.3), 0px 1px 3px 1px rgba(60, 64, 67, 0.15);\n",
              "      fill: #174EA6;\n",
              "    }\n",
              "\n",
              "    [theme=dark] .colab-df-convert {\n",
              "      background-color: #3B4455;\n",
              "      fill: #D2E3FC;\n",
              "    }\n",
              "\n",
              "    [theme=dark] .colab-df-convert:hover {\n",
              "      background-color: #434B5C;\n",
              "      box-shadow: 0px 1px 3px 1px rgba(0, 0, 0, 0.15);\n",
              "      filter: drop-shadow(0px 1px 2px rgba(0, 0, 0, 0.3));\n",
              "      fill: #FFFFFF;\n",
              "    }\n",
              "  </style>\n",
              "\n",
              "      <script>\n",
              "        const buttonEl =\n",
              "          document.querySelector('#df-dfa87c67-927b-4b8e-9f64-f6ba10139534 button.colab-df-convert');\n",
              "        buttonEl.style.display =\n",
              "          google.colab.kernel.accessAllowed ? 'block' : 'none';\n",
              "\n",
              "        async function convertToInteractive(key) {\n",
              "          const element = document.querySelector('#df-dfa87c67-927b-4b8e-9f64-f6ba10139534');\n",
              "          const dataTable =\n",
              "            await google.colab.kernel.invokeFunction('convertToInteractive',\n",
              "                                                     [key], {});\n",
              "          if (!dataTable) return;\n",
              "\n",
              "          const docLinkHtml = 'Like what you see? Visit the ' +\n",
              "            '<a target=\"_blank\" href=https://colab.research.google.com/notebooks/data_table.ipynb>data table notebook</a>'\n",
              "            + ' to learn more about interactive tables.';\n",
              "          element.innerHTML = '';\n",
              "          dataTable['output_type'] = 'display_data';\n",
              "          await google.colab.output.renderOutput(dataTable, element);\n",
              "          const docLink = document.createElement('div');\n",
              "          docLink.innerHTML = docLinkHtml;\n",
              "          element.appendChild(docLink);\n",
              "        }\n",
              "      </script>\n",
              "    </div>\n",
              "  </div>\n",
              "  "
            ]
          },
          "metadata": {},
          "execution_count": 3
        }
      ]
    },
    {
      "cell_type": "code",
      "source": [
        "df.info()"
      ],
      "metadata": {
        "colab": {
          "base_uri": "https://localhost:8080/"
        },
        "id": "FjMEsXJJsSYq",
        "outputId": "3eae97fa-5282-4fde-b01e-549afa38c09a"
      },
      "execution_count": null,
      "outputs": [
        {
          "output_type": "stream",
          "name": "stdout",
          "text": [
            "<class 'pandas.core.frame.DataFrame'>\n",
            "RangeIndex: 45253 entries, 0 to 45252\n",
            "Data columns (total 37 columns):\n",
            " #   Column             Non-Null Count  Dtype  \n",
            "---  ------             --------------  -----  \n",
            " 0   datetime           45253 non-null  object \n",
            " 1   Vancouver          44458 non-null  float64\n",
            " 2   Portland           45252 non-null  float64\n",
            " 3   San Francisco      44460 non-null  float64\n",
            " 4   Seattle            45250 non-null  float64\n",
            " 5   Los Angeles        45250 non-null  float64\n",
            " 6   San Diego          45252 non-null  float64\n",
            " 7   Las Vegas          45252 non-null  float64\n",
            " 8   Phoenix            45250 non-null  float64\n",
            " 9   Albuquerque        45252 non-null  float64\n",
            " 10  Denver             45252 non-null  float64\n",
            " 11  San Antonio        45252 non-null  float64\n",
            " 12  Dallas             45249 non-null  float64\n",
            " 13  Houston            45250 non-null  float64\n",
            " 14  Kansas City        45252 non-null  float64\n",
            " 15  Minneapolis        45240 non-null  float64\n",
            " 16  Saint Louis        45252 non-null  float64\n",
            " 17  Chicago            45250 non-null  float64\n",
            " 18  Nashville          45251 non-null  float64\n",
            " 19  Indianapolis       45246 non-null  float64\n",
            " 20  Atlanta            45247 non-null  float64\n",
            " 21  Detroit            45252 non-null  float64\n",
            " 22  Jacksonville       45252 non-null  float64\n",
            " 23  Charlotte          45250 non-null  float64\n",
            " 24  Miami              44448 non-null  float64\n",
            " 25  Pittsburgh         45250 non-null  float64\n",
            " 26  Toronto            45252 non-null  float64\n",
            " 27  Philadelphia       45250 non-null  float64\n",
            " 28  New York           44460 non-null  float64\n",
            " 29  Montreal           45250 non-null  float64\n",
            " 30  Boston             45250 non-null  float64\n",
            " 31  Beersheba          44455 non-null  float64\n",
            " 32  Tel Aviv District  44460 non-null  float64\n",
            " 33  Eilat              44461 non-null  float64\n",
            " 34  Haifa              44455 non-null  float64\n",
            " 35  Nahariyya          44456 non-null  float64\n",
            " 36  Jerusalem          44460 non-null  float64\n",
            "dtypes: float64(36), object(1)\n",
            "memory usage: 12.8+ MB\n"
          ]
        }
      ]
    },
    {
      "cell_type": "code",
      "source": [
        "df=df[['datetime','Albuquerque']]"
      ],
      "metadata": {
        "id": "B_6h9EBXsSdC"
      },
      "execution_count": null,
      "outputs": []
    },
    {
      "cell_type": "code",
      "source": [
        "df.isna().sum()"
      ],
      "metadata": {
        "colab": {
          "base_uri": "https://localhost:8080/"
        },
        "id": "YmFPh9qvsSi1",
        "outputId": "15c98100-2d95-4dbd-9e20-010ffaaf8261"
      },
      "execution_count": null,
      "outputs": [
        {
          "output_type": "execute_result",
          "data": {
            "text/plain": [
              "datetime       0\n",
              "Albuquerque    1\n",
              "dtype: int64"
            ]
          },
          "metadata": {},
          "execution_count": 6
        }
      ]
    },
    {
      "cell_type": "code",
      "source": [
        "df = df.dropna()"
      ],
      "metadata": {
        "id": "ZJEaT0NpsSrb"
      },
      "execution_count": null,
      "outputs": []
    },
    {
      "cell_type": "code",
      "source": [
        "plt.plot(range(1,len(df['Albuquerque'].values)+1),df['Albuquerque'].values)"
      ],
      "metadata": {
        "colab": {
          "base_uri": "https://localhost:8080/",
          "height": 282
        },
        "id": "YyfQzesKsSwk",
        "outputId": "5237f725-d827-4148-a9b9-871d54acc111"
      },
      "execution_count": null,
      "outputs": [
        {
          "output_type": "execute_result",
          "data": {
            "text/plain": [
              "[<matplotlib.lines.Line2D at 0x7f27cae40bb0>]"
            ]
          },
          "metadata": {},
          "execution_count": 8
        },
        {
          "output_type": "display_data",
          "data": {
            "text/plain": [
              "<Figure size 432x288 with 1 Axes>"
            ],
            "image/png": "[encoded data removed]"
          },
          "metadata": {
            "needs_background": "light"
          }
        }
      ]
    },
    {
      "cell_type": "code",
      "source": [
        "from sklearn.preprocessing import MinMaxScaler\n",
        "min_max_scaler = MinMaxScaler()\n",
        "\n",
        "data = df['Albuquerque'].values\n",
        "data = min_max_scaler.fit_transform(data.reshape(-1, 1))"
      ],
      "metadata": {
        "id": "49bTHJdZsTDW"
      },
      "execution_count": null,
      "outputs": []
    },
    {
      "cell_type": "code",
      "source": [
        "print(data.shape)\n",
        "data =data.flatten()\n",
        "print(data.shape)"
      ],
      "metadata": {
        "colab": {
          "base_uri": "https://localhost:8080/"
        },
        "id": "1CTg_jvfwnIT",
        "outputId": "c503a3b2-32a4-411f-de70-54e46c30388b"
      },
      "execution_count": null,
      "outputs": [
        {
          "output_type": "stream",
          "name": "stdout",
          "text": [
            "(45252, 1)\n",
            "(45252,)\n"
          ]
        }
      ]
    },
    {
      "cell_type": "code",
      "source": [
        "window = 15\n",
        "\n",
        "n_samples=data.shape[0]-window\n",
        "n_train_samples=round(0.7*n_samples)\n",
        "n_val_samples=round(0.15*n_samples)\n",
        "n_test_samples=n_samples-n_train_samples-n_val_samples\n",
        "print('Train = ',n_train_samples,'Validation = ',n_val_samples,'Test = ',n_test_samples)"
      ],
      "metadata": {
        "colab": {
          "base_uri": "https://localhost:8080/"
        },
        "id": "r8FsSjDJxBWI",
        "outputId": "8efe7135-d316-4189-8cd8-dc1ed483b920"
      },
      "execution_count": null,
      "outputs": [
        {
          "output_type": "stream",
          "name": "stdout",
          "text": [
            "Train =  31666 Validation =  6786 Test =  6785\n"
          ]
        }
      ]
    },
    {
      "cell_type": "code",
      "source": [
        "X_train=np.zeros((n_train_samples,window))\n",
        "y_train=np.zeros(n_train_samples)\n",
        "\n",
        "X_val=np.zeros((n_val_samples,window))\n",
        "y_val=np.zeros(n_val_samples)\n",
        "\n",
        "X_test=np.zeros((n_test_samples,window))\n",
        "y_test=np.zeros(n_test_samples)"
      ],
      "metadata": {
        "id": "3E3VeaLaxBlU"
      },
      "execution_count": null,
      "outputs": []
    },
    {
      "cell_type": "code",
      "source": [
        "for i in range(n_train_samples):\n",
        "  for j in range(window):\n",
        "    X_train[i,j]=data[i+j]\n",
        "  y_train[i]=data[i+window]\n",
        "\n",
        "for i in range(n_val_samples):\n",
        "  for j in range(window):\n",
        "    X_val[i,j]=data[n_train_samples+i+j]\n",
        "  y_val[i]=data[n_train_samples+i+window]\n",
        "\n",
        "for i in range(n_test_samples):\n",
        "  for j in range(window):\n",
        "    X_test[i,j]=data[n_train_samples+n_val_samples+i+j]\n",
        "  y_test[i]=data[n_train_samples+n_val_samples+i+window]"
      ],
      "metadata": {
        "id": "NtH1xLTnzXwc"
      },
      "execution_count": null,
      "outputs": []
    },
    {
      "cell_type": "code",
      "source": [
        "from keras.models import Sequential\n",
        "from keras.layers import Dense\n",
        "\n",
        "ff_model=Sequential()\n",
        "ff_model.add(Dense(10,activation='relu',input_dim=window))\n",
        "ff_model.add(Dense(1))"
      ],
      "metadata": {
        "id": "ZLpv6r361BqO"
      },
      "execution_count": null,
      "outputs": []
    },
    {
      "cell_type": "code",
      "source": [
        "ff_model.summary()"
      ],
      "metadata": {
        "colab": {
          "base_uri": "https://localhost:8080/"
        },
        "id": "jwGlouAR1x9m",
        "outputId": "e585b17e-e3fc-46c6-e410-7e5bafa0e289"
      },
      "execution_count": null,
      "outputs": [
        {
          "output_type": "stream",
          "name": "stdout",
          "text": [
            "Model: \"sequential\"\n",
            "_________________________________________________________________\n",
            " Layer (type)                Output Shape              Param #   \n",
            "=================================================================\n",
            " dense (Dense)               (None, 10)                160       \n",
            "                                                                 \n",
            " dense_1 (Dense)             (None, 1)                 11        \n",
            "                                                                 \n",
            "=================================================================\n",
            "Total params: 171\n",
            "Trainable params: 171\n",
            "Non-trainable params: 0\n",
            "_________________________________________________________________\n"
          ]
        }
      ]
    },
    {
      "cell_type": "code",
      "source": [
        "ff_model.compile(loss='mse',optimizer='adam',metrics='mae')"
      ],
      "metadata": {
        "id": "bUF7VInH1yVH"
      },
      "execution_count": null,
      "outputs": []
    },
    {
      "cell_type": "code",
      "source": [
        "from keras.callbacks import ModelCheckpoint,EarlyStopping\n",
        "\n",
        "early_stop = EarlyStopping(monitor='val_mae',patience=5,mode='min',verbose=1)\n",
        "checkpoint = ModelCheckpoint('/content/gdrive/My Drive/StudyData/Models/ff-temperature-{epoch:02d}-{val_mae:.3f}.hdf5',\n",
        "                              monitor='val_mae',verbose=1,mode='min',\n",
        "                              save_best_only=True)\n",
        "callbacks_list=[early_stop,checkpoint]"
      ],
      "metadata": {
        "id": "OhvH2Bec4jWA"
      },
      "execution_count": null,
      "outputs": []
    },
    {
      "cell_type": "code",
      "source": [
        "ff_model_history = ff_model.fit(X_train,y_train,batch_size=25,epochs=40,\n",
        "                                callbacks=callbacks_list,\n",
        "                                validation_data=(X_val,y_val))"
      ],
      "metadata": {
        "colab": {
          "base_uri": "https://localhost:8080/"
        },
        "id": "Rx7sWmCv2as8",
        "outputId": "3389f882-ada7-4234-d56e-8aef1c042a76"
      },
      "execution_count": null,
      "outputs": [
        {
          "output_type": "stream",
          "name": "stdout",
          "text": [
            "Epoch 1/40\n",
            "1266/1267 [============================>.] - ETA: 0s - loss: 0.0033 - mae: 0.0420\n",
            "Epoch 1: val_mae improved from inf to 0.02811, saving model to /content/gdrive/My Drive/StudyData/Models/ff-temperature-01-0.028.hdf5\n",
            "1267/1267 [==============================] - 5s 4ms/step - loss: 0.0033 - mae: 0.0420 - val_loss: 0.0014 - val_mae: 0.0281\n",
            "Epoch 2/40\n",
            "1265/1267 [============================>.] - ETA: 0s - loss: 0.0012 - mae: 0.0249\n",
            "Epoch 2: val_mae improved from 0.02811 to 0.02291, saving model to /content/gdrive/My Drive/StudyData/Models/ff-temperature-02-0.023.hdf5\n",
            "1267/1267 [==============================] - 3s 3ms/step - loss: 0.0012 - mae: 0.0249 - val_loss: 9.8505e-04 - val_mae: 0.0229\n",
            "Epoch 3/40\n",
            "1239/1267 [============================>.] - ETA: 0s - loss: 9.7086e-04 - mae: 0.0222\n",
            "Epoch 3: val_mae improved from 0.02291 to 0.02011, saving model to /content/gdrive/My Drive/StudyData/Models/ff-temperature-03-0.020.hdf5\n",
            "1267/1267 [==============================] - 3s 2ms/step - loss: 9.6701e-04 - mae: 0.0221 - val_loss: 8.1584e-04 - val_mae: 0.0201\n",
            "Epoch 4/40\n",
            "1265/1267 [============================>.] - ETA: 0s - loss: 8.9546e-04 - mae: 0.0210\n",
            "Epoch 4: val_mae did not improve from 0.02011\n",
            "1267/1267 [==============================] - 3s 2ms/step - loss: 8.9523e-04 - mae: 0.0210 - val_loss: 0.0011 - val_mae: 0.0250\n",
            "Epoch 5/40\n",
            "1267/1267 [==============================] - ETA: 0s - loss: 8.6882e-04 - mae: 0.0205\n",
            "Epoch 5: val_mae did not improve from 0.02011\n",
            "1267/1267 [==============================] - 3s 3ms/step - loss: 8.6882e-04 - mae: 0.0205 - val_loss: 8.3143e-04 - val_mae: 0.0211\n",
            "Epoch 6/40\n",
            "1261/1267 [============================>.] - ETA: 0s - loss: 8.5620e-04 - mae: 0.0202\n",
            "Epoch 6: val_mae did not improve from 0.02011\n",
            "1267/1267 [==============================] - 4s 3ms/step - loss: 8.5810e-04 - mae: 0.0202 - val_loss: 8.8826e-04 - val_mae: 0.0220\n",
            "Epoch 7/40\n",
            "1254/1267 [============================>.] - ETA: 0s - loss: 8.5138e-04 - mae: 0.0202\n",
            "Epoch 7: val_mae improved from 0.02011 to 0.01904, saving model to /content/gdrive/My Drive/StudyData/Models/ff-temperature-07-0.019.hdf5\n",
            "1267/1267 [==============================] - 3s 2ms/step - loss: 8.5323e-04 - mae: 0.0202 - val_loss: 7.5416e-04 - val_mae: 0.0190\n",
            "Epoch 8/40\n",
            "1251/1267 [============================>.] - ETA: 0s - loss: 8.3459e-04 - mae: 0.0198\n",
            "Epoch 8: val_mae improved from 0.01904 to 0.01901, saving model to /content/gdrive/My Drive/StudyData/Models/ff-temperature-08-0.019.hdf5\n",
            "1267/1267 [==============================] - 3s 2ms/step - loss: 8.3344e-04 - mae: 0.0198 - val_loss: 7.3622e-04 - val_mae: 0.0190\n",
            "Epoch 9/40\n",
            "1259/1267 [============================>.] - ETA: 0s - loss: 8.2721e-04 - mae: 0.0197\n",
            "Epoch 9: val_mae improved from 0.01901 to 0.01891, saving model to /content/gdrive/My Drive/StudyData/Models/ff-temperature-09-0.019.hdf5\n",
            "1267/1267 [==============================] - 3s 2ms/step - loss: 8.2715e-04 - mae: 0.0197 - val_loss: 7.2302e-04 - val_mae: 0.0189\n",
            "Epoch 10/40\n",
            "1266/1267 [============================>.] - ETA: 0s - loss: 8.4474e-04 - mae: 0.0200\n",
            "Epoch 10: val_mae did not improve from 0.01891\n",
            "1267/1267 [==============================] - 3s 3ms/step - loss: 8.4453e-04 - mae: 0.0200 - val_loss: 7.7169e-04 - val_mae: 0.0194\n",
            "Epoch 11/40\n",
            "1251/1267 [============================>.] - ETA: 0s - loss: 8.3939e-04 - mae: 0.0199\n",
            "Epoch 11: val_mae did not improve from 0.01891\n",
            "1267/1267 [==============================] - 4s 3ms/step - loss: 8.3722e-04 - mae: 0.0199 - val_loss: 7.4490e-04 - val_mae: 0.0193\n",
            "Epoch 12/40\n",
            "1257/1267 [============================>.] - ETA: 0s - loss: 8.3883e-04 - mae: 0.0199\n",
            "Epoch 12: val_mae improved from 0.01891 to 0.01863, saving model to /content/gdrive/My Drive/StudyData/Models/ff-temperature-12-0.019.hdf5\n",
            "1267/1267 [==============================] - 3s 3ms/step - loss: 8.4073e-04 - mae: 0.0199 - val_loss: 7.1443e-04 - val_mae: 0.0186\n",
            "Epoch 13/40\n",
            "1257/1267 [============================>.] - ETA: 0s - loss: 8.2674e-04 - mae: 0.0197\n",
            "Epoch 13: val_mae improved from 0.01863 to 0.01839, saving model to /content/gdrive/My Drive/StudyData/Models/ff-temperature-13-0.018.hdf5\n",
            "1267/1267 [==============================] - 3s 2ms/step - loss: 8.2925e-04 - mae: 0.0197 - val_loss: 7.0290e-04 - val_mae: 0.0184\n",
            "Epoch 14/40\n",
            "1267/1267 [==============================] - ETA: 0s - loss: 8.2176e-04 - mae: 0.0196\n",
            "Epoch 14: val_mae did not improve from 0.01839\n",
            "1267/1267 [==============================] - 3s 2ms/step - loss: 8.2176e-04 - mae: 0.0196 - val_loss: 7.8746e-04 - val_mae: 0.0202\n",
            "Epoch 15/40\n",
            "1255/1267 [============================>.] - ETA: 0s - loss: 8.2944e-04 - mae: 0.0197\n",
            "Epoch 15: val_mae did not improve from 0.01839\n",
            "1267/1267 [==============================] - 5s 4ms/step - loss: 8.3043e-04 - mae: 0.0197 - val_loss: 9.8885e-04 - val_mae: 0.0236\n",
            "Epoch 16/40\n",
            "1258/1267 [============================>.] - ETA: 0s - loss: 8.1839e-04 - mae: 0.0195\n",
            "Epoch 16: val_mae did not improve from 0.01839\n",
            "1267/1267 [==============================] - 3s 2ms/step - loss: 8.1843e-04 - mae: 0.0195 - val_loss: 6.9464e-04 - val_mae: 0.0184\n",
            "Epoch 17/40\n",
            "1259/1267 [============================>.] - ETA: 0s - loss: 8.2599e-04 - mae: 0.0196\n",
            "Epoch 17: val_mae improved from 0.01839 to 0.01828, saving model to /content/gdrive/My Drive/StudyData/Models/ff-temperature-17-0.018.hdf5\n",
            "1267/1267 [==============================] - 3s 2ms/step - loss: 8.2474e-04 - mae: 0.0196 - val_loss: 6.9383e-04 - val_mae: 0.0183\n",
            "Epoch 18/40\n",
            "1263/1267 [============================>.] - ETA: 0s - loss: 8.1972e-04 - mae: 0.0195\n",
            "Epoch 18: val_mae did not improve from 0.01828\n",
            "1267/1267 [==============================] - 4s 3ms/step - loss: 8.2055e-04 - mae: 0.0195 - val_loss: 7.1345e-04 - val_mae: 0.0184\n",
            "Epoch 19/40\n",
            "1259/1267 [============================>.] - ETA: 0s - loss: 8.1577e-04 - mae: 0.0195\n",
            "Epoch 19: val_mae did not improve from 0.01828\n",
            "1267/1267 [==============================] - 4s 3ms/step - loss: 8.1992e-04 - mae: 0.0195 - val_loss: 6.9952e-04 - val_mae: 0.0185\n",
            "Epoch 20/40\n",
            "1263/1267 [============================>.] - ETA: 0s - loss: 8.2108e-04 - mae: 0.0196\n",
            "Epoch 20: val_mae did not improve from 0.01828\n",
            "1267/1267 [==============================] - 3s 2ms/step - loss: 8.2229e-04 - mae: 0.0196 - val_loss: 7.2435e-04 - val_mae: 0.0188\n",
            "Epoch 21/40\n",
            "1251/1267 [============================>.] - ETA: 0s - loss: 8.1258e-04 - mae: 0.0194\n",
            "Epoch 21: val_mae improved from 0.01828 to 0.01798, saving model to /content/gdrive/My Drive/StudyData/Models/ff-temperature-21-0.018.hdf5\n",
            "1267/1267 [==============================] - 3s 2ms/step - loss: 8.1201e-04 - mae: 0.0194 - val_loss: 7.0136e-04 - val_mae: 0.0180\n",
            "Epoch 22/40\n",
            "1263/1267 [============================>.] - ETA: 0s - loss: 8.1000e-04 - mae: 0.0193\n",
            "Epoch 22: val_mae did not improve from 0.01798\n",
            "1267/1267 [==============================] - 3s 2ms/step - loss: 8.0977e-04 - mae: 0.0193 - val_loss: 9.3855e-04 - val_mae: 0.0227\n",
            "Epoch 23/40\n",
            "1262/1267 [============================>.] - ETA: 0s - loss: 8.1176e-04 - mae: 0.0194\n",
            "Epoch 23: val_mae did not improve from 0.01798\n",
            "1267/1267 [==============================] - 3s 2ms/step - loss: 8.1190e-04 - mae: 0.0194 - val_loss: 7.6993e-04 - val_mae: 0.0198\n",
            "Epoch 24/40\n",
            "1256/1267 [============================>.] - ETA: 0s - loss: 8.1596e-04 - mae: 0.0196\n",
            "Epoch 24: val_mae did not improve from 0.01798\n",
            "1267/1267 [==============================] - 4s 3ms/step - loss: 8.1973e-04 - mae: 0.0196 - val_loss: 9.2579e-04 - val_mae: 0.0225\n",
            "Epoch 25/40\n",
            "1256/1267 [============================>.] - ETA: 0s - loss: 8.1295e-04 - mae: 0.0194\n",
            "Epoch 25: val_mae did not improve from 0.01798\n",
            "1267/1267 [==============================] - 3s 3ms/step - loss: 8.1196e-04 - mae: 0.0194 - val_loss: 6.9102e-04 - val_mae: 0.0181\n",
            "Epoch 26/40\n",
            "1266/1267 [============================>.] - ETA: 0s - loss: 8.0964e-04 - mae: 0.0193\n",
            "Epoch 26: val_mae did not improve from 0.01798\n",
            "1267/1267 [==============================] - 3s 2ms/step - loss: 8.0955e-04 - mae: 0.0193 - val_loss: 7.9381e-04 - val_mae: 0.0201\n",
            "Epoch 26: early stopping\n"
          ]
        }
      ]
    },
    {
      "cell_type": "code",
      "source": [
        "loss_function = ff_model_history.history['loss']\n",
        "val_loss_function = ff_model_history.history['val_loss']\n",
        "\n",
        "epochs=range(1,len(loss_function)+1)\n",
        "\n",
        "plt.title('MSE value (Train & Val Sets)')\n",
        "plt.plot(epochs,loss_function,color='green',label='Train MSE')\n",
        "plt.plot(epochs,val_loss_function,color='red',label='Val MSE')\n",
        "plt.xlabel('Epochs')\n",
        "plt.ylabel('Mean Squared Error')\n",
        "plt.legend()\n",
        "plt.show()"
      ],
      "metadata": {
        "colab": {
          "base_uri": "https://localhost:8080/",
          "height": 295
        },
        "id": "3jiPwrLp3SaH",
        "outputId": "41065190-ec0e-4110-f82d-49bbe2140d96"
      },
      "execution_count": null,
      "outputs": [
        {
          "output_type": "display_data",
          "data": {
            "text/plain": [
              "<Figure size 432x288 with 1 Axes>"
            ],
            "image/png": "[encoded data removed]"
          },
          "metadata": {
            "needs_background": "light"
          }
        }
      ]
    },
    {
      "cell_type": "code",
      "source": [
        "ff_model.load_weights('/content/gdrive/My Drive/StudyData/Models/ff-temperature-18-0.019.hdf5')"
      ],
      "metadata": {
        "id": "-HVl1UTQ7xF1"
      },
      "execution_count": null,
      "outputs": []
    },
    {
      "cell_type": "code",
      "source": [
        "from sklearn.metrics import mean_absolute_error,r2_score\n",
        "\n",
        "y_pred = ff_model.predict(X_test)\n",
        "y_pred_inv = min_max_scaler.inverse_transform(y_pred)\n",
        "y_test_inv = min_max_scaler.inverse_transform(y_test.reshape(-1,1))\n",
        "\n",
        "print('MAE = ',round(mean_absolute_error(y_true=y_test_inv,y_pred=y_pred_inv),3),' K degrees')\n",
        "print('R2-score = ',round(r2_score(y_test_inv,y_pred_inv),3))"
      ],
      "metadata": {
        "colab": {
          "base_uri": "https://localhost:8080/"
        },
        "id": "sSabUkLC8Lfp",
        "outputId": "6aa47ab0-345a-451f-f03a-8e7850bdc8a0"
      },
      "execution_count": null,
      "outputs": [
        {
          "output_type": "stream",
          "name": "stdout",
          "text": [
            "213/213 [==============================] - 0s 1ms/step\n",
            "MAE =  1.036  K degrees\n",
            "R2-score =  0.972\n"
          ]
        }
      ]
    },
    {
      "cell_type": "code",
      "source": [
        "plt.plot(range(1,len(y_test_inv)+1),y_test_inv)\n",
        "plt.plot(range(1,len(y_pred_inv)+1),y_pred_inv)"
      ],
      "metadata": {
        "colab": {
          "base_uri": "https://localhost:8080/",
          "height": 282
        },
        "id": "1aNmjAhd-sLS",
        "outputId": "482c0d6e-323f-4128-9644-439ef0f143e7"
      },
      "execution_count": null,
      "outputs": [
        {
          "output_type": "execute_result",
          "data": {
            "text/plain": [
              "[<matplotlib.lines.Line2D at 0x7f275fc868b0>]"
            ]
          },
          "metadata": {},
          "execution_count": 22
        },
        {
          "output_type": "display_data",
          "data": {
            "text/plain": [
              "<Figure size 432x288 with 1 Axes>"
            ],
            "image/png": "[encoded data removed]"
          },
          "metadata": {
            "needs_background": "light"
          }
        }
      ]
    },
    {
      "cell_type": "code",
      "source": [
        "from keras.layers import SimpleRNN\n",
        "\n",
        "simple_rnn_model = Sequential()\n",
        "simple_rnn_model.add(SimpleRNN(10,activation='relu',input_shape=(window,1)))\n",
        "simple_rnn_model.add(Dense(1,activation='linear'))"
      ],
      "metadata": {
        "id": "cIJpVUDi_OO5"
      },
      "execution_count": null,
      "outputs": []
    },
    {
      "cell_type": "code",
      "source": [
        "X_train = np.reshape(X_train,(X_train.shape[0],X_train.shape[1],1))\n",
        "X_val = np.reshape(X_val,(X_val.shape[0],X_val.shape[1],1))\n",
        "X_test = np.reshape(X_test,(X_test.shape[0],X_test.shape[1],1))"
      ],
      "metadata": {
        "id": "GYmIrXW2_SyJ"
      },
      "execution_count": null,
      "outputs": []
    },
    {
      "cell_type": "code",
      "source": [
        "simple_rnn_model.compile(loss='mse',optimizer='adam',metrics='mae')"
      ],
      "metadata": {
        "id": "CgHxP36S_S-D"
      },
      "execution_count": null,
      "outputs": []
    },
    {
      "cell_type": "code",
      "source": [
        "early_stop = EarlyStopping(monitor='val_mae',patience=5,mode='min',verbose=1)\n",
        "checkpoint = ModelCheckpoint('/content/gdrive/My Drive/StudyData/Models/simple_rnn-temperature-{epoch:02d}-{val_mae:.3f}.hdf5',\n",
        "                              monitor='val_mae',verbose=1,mode='min',\n",
        "                              save_best_only=True)\n",
        "callbacks_list=[early_stop,checkpoint]"
      ],
      "metadata": {
        "id": "rukR3r8a_TI4"
      },
      "execution_count": null,
      "outputs": []
    },
    {
      "cell_type": "code",
      "source": [
        "simple_rnn_model_history = simple_rnn_model.fit(X_train,y_train,batch_size=25,epochs=40,\n",
        "                                callbacks=callbacks_list,\n",
        "                                validation_data=(X_val,y_val))"
      ],
      "metadata": {
        "colab": {
          "base_uri": "https://localhost:8080/"
        },
        "id": "6e5ywj7f_Ohg",
        "outputId": "872bed50-03b9-4c4f-fdb5-ef55775ed0a6"
      },
      "execution_count": null,
      "outputs": [
        {
          "output_type": "stream",
          "name": "stdout",
          "text": [
            "Epoch 1/40\n",
            "1264/1267 [============================>.] - ETA: 0s - loss: 0.0936 - mae: 0.1999\n",
            "Epoch 1: val_mae improved from inf to 0.02683, saving model to /content/gdrive/My Drive/StudyData/Models/simple_rnn-temperature-01-0.027.hdf5\n",
            "1267/1267 [==============================] - 7s 5ms/step - loss: 0.0934 - mae: 0.1995 - val_loss: 0.0015 - val_mae: 0.0268\n",
            "Epoch 2/40\n",
            "1260/1267 [============================>.] - ETA: 0s - loss: 0.0011 - mae: 0.0231\n",
            "Epoch 2: val_mae improved from 0.02683 to 0.02204, saving model to /content/gdrive/My Drive/StudyData/Models/simple_rnn-temperature-02-0.022.hdf5\n",
            "1267/1267 [==============================] - 7s 6ms/step - loss: 0.0011 - mae: 0.0231 - val_loss: 9.9039e-04 - val_mae: 0.0220\n",
            "Epoch 3/40\n",
            "1255/1267 [============================>.] - ETA: 0s - loss: 0.0010 - mae: 0.0214\n",
            "Epoch 3: val_mae improved from 0.02204 to 0.02083, saving model to /content/gdrive/My Drive/StudyData/Models/simple_rnn-temperature-03-0.021.hdf5\n",
            "1267/1267 [==============================] - 6s 5ms/step - loss: 0.0010 - mae: 0.0214 - val_loss: 9.6037e-04 - val_mae: 0.0208\n",
            "Epoch 4/40\n",
            "1264/1267 [============================>.] - ETA: 0s - loss: 9.7765e-04 - mae: 0.0210\n",
            "Epoch 4: val_mae improved from 0.02083 to 0.02024, saving model to /content/gdrive/My Drive/StudyData/Models/simple_rnn-temperature-04-0.020.hdf5\n",
            "1267/1267 [==============================] - 9s 7ms/step - loss: 9.7647e-04 - mae: 0.0210 - val_loss: 9.2356e-04 - val_mae: 0.0202\n",
            "Epoch 5/40\n",
            "1262/1267 [============================>.] - ETA: 0s - loss: 9.6005e-04 - mae: 0.0207\n",
            "Epoch 5: val_mae improved from 0.02024 to 0.01960, saving model to /content/gdrive/My Drive/StudyData/Models/simple_rnn-temperature-05-0.020.hdf5\n",
            "1267/1267 [==============================] - 9s 7ms/step - loss: 9.5997e-04 - mae: 0.0206 - val_loss: 8.8464e-04 - val_mae: 0.0196\n",
            "Epoch 6/40\n",
            "1265/1267 [============================>.] - ETA: 0s - loss: 9.5101e-04 - mae: 0.0205\n",
            "Epoch 6: val_mae improved from 0.01960 to 0.01956, saving model to /content/gdrive/My Drive/StudyData/Models/simple_rnn-temperature-06-0.020.hdf5\n",
            "1267/1267 [==============================] - 7s 6ms/step - loss: 9.5074e-04 - mae: 0.0205 - val_loss: 8.7267e-04 - val_mae: 0.0196\n",
            "Epoch 7/40\n",
            "1264/1267 [============================>.] - ETA: 0s - loss: 9.4103e-04 - mae: 0.0203\n",
            "Epoch 7: val_mae did not improve from 0.01956\n",
            "1267/1267 [==============================] - 6s 5ms/step - loss: 9.4150e-04 - mae: 0.0203 - val_loss: 8.8776e-04 - val_mae: 0.0198\n",
            "Epoch 8/40\n",
            "1263/1267 [============================>.] - ETA: 0s - loss: 9.3353e-04 - mae: 0.0202\n",
            "Epoch 8: val_mae improved from 0.01956 to 0.01906, saving model to /content/gdrive/My Drive/StudyData/Models/simple_rnn-temperature-08-0.019.hdf5\n",
            "1267/1267 [==============================] - 7s 6ms/step - loss: 9.3506e-04 - mae: 0.0202 - val_loss: 8.5308e-04 - val_mae: 0.0191\n",
            "Epoch 9/40\n",
            "1264/1267 [============================>.] - ETA: 0s - loss: 9.2435e-04 - mae: 0.0201\n",
            "Epoch 9: val_mae did not improve from 0.01906\n",
            "1267/1267 [==============================] - 7s 5ms/step - loss: 9.2735e-04 - mae: 0.0201 - val_loss: 8.6818e-04 - val_mae: 0.0195\n",
            "Epoch 10/40\n",
            "1264/1267 [============================>.] - ETA: 0s - loss: 9.2108e-04 - mae: 0.0201\n",
            "Epoch 10: val_mae did not improve from 0.01906\n",
            "1267/1267 [==============================] - 8s 6ms/step - loss: 9.2341e-04 - mae: 0.0201 - val_loss: 8.4170e-04 - val_mae: 0.0192\n",
            "Epoch 11/40\n",
            "1260/1267 [============================>.] - ETA: 0s - loss: 9.1303e-04 - mae: 0.0200\n",
            "Epoch 11: val_mae improved from 0.01906 to 0.01885, saving model to /content/gdrive/My Drive/StudyData/Models/simple_rnn-temperature-11-0.019.hdf5\n",
            "1267/1267 [==============================] - 6s 5ms/step - loss: 9.1636e-04 - mae: 0.0200 - val_loss: 8.4052e-04 - val_mae: 0.0189\n",
            "Epoch 12/40\n",
            "1256/1267 [============================>.] - ETA: 0s - loss: 9.0696e-04 - mae: 0.0200\n",
            "Epoch 12: val_mae did not improve from 0.01885\n",
            "1267/1267 [==============================] - 7s 6ms/step - loss: 9.1375e-04 - mae: 0.0201 - val_loss: 8.6071e-04 - val_mae: 0.0200\n",
            "Epoch 13/40\n",
            "1262/1267 [============================>.] - ETA: 0s - loss: 8.8444e-04 - mae: 0.0197\n",
            "Epoch 13: val_mae did not improve from 0.01885\n",
            "1267/1267 [==============================] - 6s 5ms/step - loss: 8.8365e-04 - mae: 0.0197 - val_loss: 8.3091e-04 - val_mae: 0.0195\n",
            "Epoch 14/40\n",
            "1266/1267 [============================>.] - ETA: 0s - loss: 8.7918e-04 - mae: 0.0197\n",
            "Epoch 14: val_mae did not improve from 0.01885\n",
            "1267/1267 [==============================] - 8s 6ms/step - loss: 8.7897e-04 - mae: 0.0197 - val_loss: 7.9027e-04 - val_mae: 0.0190\n",
            "Epoch 15/40\n",
            "1266/1267 [============================>.] - ETA: 0s - loss: 8.6479e-04 - mae: 0.0195\n",
            "Epoch 15: val_mae improved from 0.01885 to 0.01869, saving model to /content/gdrive/My Drive/StudyData/Models/simple_rnn-temperature-15-0.019.hdf5\n",
            "1267/1267 [==============================] - 6s 5ms/step - loss: 8.6493e-04 - mae: 0.0195 - val_loss: 8.0319e-04 - val_mae: 0.0187\n",
            "Epoch 16/40\n",
            "1263/1267 [============================>.] - ETA: 0s - loss: 8.6250e-04 - mae: 0.0195\n",
            "Epoch 16: val_mae did not improve from 0.01869\n",
            "1267/1267 [==============================] - 7s 6ms/step - loss: 8.6197e-04 - mae: 0.0195 - val_loss: 8.3389e-04 - val_mae: 0.0189\n",
            "Epoch 17/40\n",
            "1256/1267 [============================>.] - ETA: 0s - loss: 8.5956e-04 - mae: 0.0195\n",
            "Epoch 17: val_mae did not improve from 0.01869\n",
            "1267/1267 [==============================] - 6s 5ms/step - loss: 8.5757e-04 - mae: 0.0195 - val_loss: 7.7627e-04 - val_mae: 0.0191\n",
            "Epoch 18/40\n",
            "1265/1267 [============================>.] - ETA: 0s - loss: 8.4843e-04 - mae: 0.0194\n",
            "Epoch 18: val_mae improved from 0.01869 to 0.01850, saving model to /content/gdrive/My Drive/StudyData/Models/simple_rnn-temperature-18-0.018.hdf5\n",
            "1267/1267 [==============================] - 12s 10ms/step - loss: 8.4845e-04 - mae: 0.0194 - val_loss: 7.7595e-04 - val_mae: 0.0185\n",
            "Epoch 19/40\n",
            "1257/1267 [============================>.] - ETA: 0s - loss: 8.3960e-04 - mae: 0.0194\n",
            "Epoch 19: val_mae did not improve from 0.01850\n",
            "1267/1267 [==============================] - 6s 5ms/step - loss: 8.4329e-04 - mae: 0.0195 - val_loss: 7.7297e-04 - val_mae: 0.0189\n",
            "Epoch 20/40\n",
            "1265/1267 [============================>.] - ETA: 0s - loss: 8.3498e-04 - mae: 0.0195\n",
            "Epoch 20: val_mae did not improve from 0.01850\n",
            "1267/1267 [==============================] - 8s 6ms/step - loss: 8.3470e-04 - mae: 0.0195 - val_loss: 7.6234e-04 - val_mae: 0.0187\n",
            "Epoch 21/40\n",
            "1266/1267 [============================>.] - ETA: 0s - loss: 8.3779e-04 - mae: 0.0196\n",
            "Epoch 21: val_mae did not improve from 0.01850\n",
            "1267/1267 [==============================] - 6s 5ms/step - loss: 8.3777e-04 - mae: 0.0196 - val_loss: 7.8444e-04 - val_mae: 0.0193\n",
            "Epoch 22/40\n",
            "1267/1267 [==============================] - ETA: 0s - loss: 8.2980e-04 - mae: 0.0195\n",
            "Epoch 22: val_mae did not improve from 0.01850\n",
            "1267/1267 [==============================] - 7s 6ms/step - loss: 8.2980e-04 - mae: 0.0195 - val_loss: 0.0010 - val_mae: 0.0234\n",
            "Epoch 23/40\n",
            "1265/1267 [============================>.] - ETA: 0s - loss: 8.2457e-04 - mae: 0.0194\n",
            "Epoch 23: val_mae did not improve from 0.01850\n",
            "1267/1267 [==============================] - 7s 6ms/step - loss: 8.2430e-04 - mae: 0.0194 - val_loss: 7.5137e-04 - val_mae: 0.0189\n",
            "Epoch 23: early stopping\n"
          ]
        }
      ]
    },
    {
      "cell_type": "code",
      "source": [
        "simple_rnn_model.load_weights('/content/gdrive/My Drive/StudyData/Models/simple_rnn-temperature-10-0.019.hdf5')"
      ],
      "metadata": {
        "id": "q5Z-aHJZB9Wy"
      },
      "execution_count": null,
      "outputs": []
    },
    {
      "cell_type": "code",
      "source": [
        "y_pred = simple_rnn_model.predict(X_test)\n",
        "y_pred_inv = min_max_scaler.inverse_transform(y_pred)\n",
        "y_test_inv = min_max_scaler.inverse_transform(y_test.reshape(-1,1))\n",
        "\n",
        "print('MAE = ',round(mean_absolute_error(y_true=y_test_inv,y_pred=y_pred_inv),3),' K degrees')\n",
        "print('R2-score = ',round(r2_score(y_test_inv,y_pred_inv),3))"
      ],
      "metadata": {
        "colab": {
          "base_uri": "https://localhost:8080/"
        },
        "id": "4RsHMlbzBoKP",
        "outputId": "8e6a422b-ace0-48a0-ac6c-4dda6edbb1b4"
      },
      "execution_count": null,
      "outputs": [
        {
          "output_type": "stream",
          "name": "stdout",
          "text": [
            "213/213 [==============================] - 1s 2ms/step\n",
            "MAE =  1.104  K degrees\n",
            "R2-score =  0.966\n"
          ]
        }
      ]
    },
    {
      "cell_type": "code",
      "source": [
        "from keras.models import Sequential\n",
        "from keras.layers import Dense,LSTM\n",
        "\n",
        "model = Sequential()\n",
        "model.add(LSTM(10,input_shape=(window,1)))\n",
        "model.add(Dense(1,activation='linear'))\n",
        "\n",
        "model.summary()"
      ],
      "metadata": {
        "colab": {
          "base_uri": "https://localhost:8080/"
        },
        "id": "7a6pE26IDFq0",
        "outputId": "b65b3d35-4e11-40d1-d786-995d5fee1c77"
      },
      "execution_count": null,
      "outputs": [
        {
          "output_type": "stream",
          "name": "stdout",
          "text": [
            "Model: \"sequential_2\"\n",
            "_________________________________________________________________\n",
            " Layer (type)                Output Shape              Param #   \n",
            "=================================================================\n",
            " lstm (LSTM)                 (None, 10)                480       \n",
            "                                                                 \n",
            " dense_3 (Dense)             (None, 1)                 11        \n",
            "                                                                 \n",
            "=================================================================\n",
            "Total params: 491\n",
            "Trainable params: 491\n",
            "Non-trainable params: 0\n",
            "_________________________________________________________________\n"
          ]
        }
      ]
    },
    {
      "cell_type": "code",
      "source": [
        "model.compile(optimizer='adam',loss='mse',metrics='mae')"
      ],
      "metadata": {
        "id": "KBMzEaDbKzg8"
      },
      "execution_count": null,
      "outputs": []
    },
    {
      "cell_type": "code",
      "source": [
        "history = model.fit(X_train,y_train,epochs=30,batch_size=32,\n",
        "                    validation_data=(X_val,y_val))"
      ],
      "metadata": {
        "colab": {
          "base_uri": "https://localhost:8080/"
        },
        "id": "uCe6mLZnKzu6",
        "outputId": "1e4735f6-20f5-49b0-e9c9-ea6d4e5ede04"
      },
      "execution_count": null,
      "outputs": [
        {
          "output_type": "stream",
          "name": "stdout",
          "text": [
            "Epoch 1/30\n",
            "990/990 [==============================] - 13s 11ms/step - loss: 0.0129 - mae: 0.0839 - val_loss: 0.0040 - val_mae: 0.0522\n",
            "Epoch 2/30\n",
            "990/990 [==============================] - 11s 11ms/step - loss: 0.0019 - mae: 0.0337 - val_loss: 0.0011 - val_mae: 0.0255\n",
            "Epoch 3/30\n",
            "990/990 [==============================] - 13s 13ms/step - loss: 0.0010 - mae: 0.0230 - val_loss: 9.8397e-04 - val_mae: 0.0230\n",
            "Epoch 4/30\n",
            "990/990 [==============================] - 9s 9ms/step - loss: 9.6530e-04 - mae: 0.0219 - val_loss: 9.0139e-04 - val_mae: 0.0215\n",
            "Epoch 5/30\n",
            "990/990 [==============================] - 11s 11ms/step - loss: 9.2357e-04 - mae: 0.0211 - val_loss: 9.3383e-04 - val_mae: 0.0217\n",
            "Epoch 6/30\n",
            "990/990 [==============================] - 11s 12ms/step - loss: 8.9799e-04 - mae: 0.0206 - val_loss: 8.8297e-04 - val_mae: 0.0209\n",
            "Epoch 7/30\n",
            "990/990 [==============================] - 9s 9ms/step - loss: 8.9262e-04 - mae: 0.0205 - val_loss: 8.0434e-04 - val_mae: 0.0201\n",
            "Epoch 8/30\n",
            "990/990 [==============================] - 11s 11ms/step - loss: 8.7750e-04 - mae: 0.0203 - val_loss: 8.1954e-04 - val_mae: 0.0198\n",
            "Epoch 9/30\n",
            "990/990 [==============================] - 14s 14ms/step - loss: 8.7393e-04 - mae: 0.0202 - val_loss: 9.2612e-04 - val_mae: 0.0217\n",
            "Epoch 10/30\n",
            "990/990 [==============================] - 11s 11ms/step - loss: 8.7150e-04 - mae: 0.0202 - val_loss: 7.8476e-04 - val_mae: 0.0195\n",
            "Epoch 11/30\n",
            "990/990 [==============================] - 11s 12ms/step - loss: 8.7244e-04 - mae: 0.0202 - val_loss: 7.8588e-04 - val_mae: 0.0197\n",
            "Epoch 12/30\n",
            "990/990 [==============================] - 13s 13ms/step - loss: 8.6230e-04 - mae: 0.0200 - val_loss: 7.7693e-04 - val_mae: 0.0194\n",
            "Epoch 13/30\n",
            "990/990 [==============================] - 11s 11ms/step - loss: 8.5331e-04 - mae: 0.0199 - val_loss: 7.6996e-04 - val_mae: 0.0195\n",
            "Epoch 14/30\n",
            "990/990 [==============================] - 12s 12ms/step - loss: 8.5491e-04 - mae: 0.0199 - val_loss: 7.8540e-04 - val_mae: 0.0199\n",
            "Epoch 15/30\n",
            "990/990 [==============================] - 11s 11ms/step - loss: 8.4883e-04 - mae: 0.0198 - val_loss: 7.6609e-04 - val_mae: 0.0194\n",
            "Epoch 16/30\n",
            "990/990 [==============================] - 10s 10ms/step - loss: 8.4602e-04 - mae: 0.0198 - val_loss: 7.8427e-04 - val_mae: 0.0199\n",
            "Epoch 17/30\n",
            "990/990 [==============================] - 11s 11ms/step - loss: 8.4926e-04 - mae: 0.0198 - val_loss: 7.8292e-04 - val_mae: 0.0195\n",
            "Epoch 18/30\n",
            "990/990 [==============================] - 11s 11ms/step - loss: 8.4516e-04 - mae: 0.0198 - val_loss: 7.5329e-04 - val_mae: 0.0192\n",
            "Epoch 19/30\n",
            "990/990 [==============================] - 9s 10ms/step - loss: 8.3684e-04 - mae: 0.0196 - val_loss: 7.8131e-04 - val_mae: 0.0194\n",
            "Epoch 20/30\n",
            "990/990 [==============================] - 11s 11ms/step - loss: 8.4076e-04 - mae: 0.0197 - val_loss: 7.4921e-04 - val_mae: 0.0190\n",
            "Epoch 21/30\n",
            "990/990 [==============================] - 11s 11ms/step - loss: 8.3473e-04 - mae: 0.0196 - val_loss: 8.0899e-04 - val_mae: 0.0200\n",
            "Epoch 22/30\n",
            "990/990 [==============================] - 14s 14ms/step - loss: 8.3473e-04 - mae: 0.0196 - val_loss: 7.5527e-04 - val_mae: 0.0188\n",
            "Epoch 23/30\n",
            "990/990 [==============================] - 10s 10ms/step - loss: 8.3379e-04 - mae: 0.0196 - val_loss: 7.4876e-04 - val_mae: 0.0188\n",
            "Epoch 24/30\n",
            "990/990 [==============================] - 11s 11ms/step - loss: 8.2650e-04 - mae: 0.0194 - val_loss: 7.5612e-04 - val_mae: 0.0191\n",
            "Epoch 25/30\n",
            "990/990 [==============================] - 14s 15ms/step - loss: 8.2745e-04 - mae: 0.0194 - val_loss: 7.4242e-04 - val_mae: 0.0190\n",
            "Epoch 26/30\n",
            "990/990 [==============================] - 15s 16ms/step - loss: 8.2443e-04 - mae: 0.0194 - val_loss: 7.7180e-04 - val_mae: 0.0196\n",
            "Epoch 27/30\n",
            "990/990 [==============================] - 11s 11ms/step - loss: 8.2743e-04 - mae: 0.0194 - val_loss: 7.7554e-04 - val_mae: 0.0194\n",
            "Epoch 28/30\n",
            "990/990 [==============================] - 11s 11ms/step - loss: 8.2537e-04 - mae: 0.0194 - val_loss: 8.0599e-04 - val_mae: 0.0203\n",
            "Epoch 29/30\n",
            "990/990 [==============================] - 10s 10ms/step - loss: 8.2459e-04 - mae: 0.0194 - val_loss: 7.5183e-04 - val_mae: 0.0189\n",
            "Epoch 30/30\n",
            "990/990 [==============================] - 12s 12ms/step - loss: 8.2129e-04 - mae: 0.0194 - val_loss: 7.4307e-04 - val_mae: 0.0186\n"
          ]
        }
      ]
    },
    {
      "cell_type": "code",
      "source": [
        "y_pred = model.predict(X_test)\n",
        "y_pred_inv = min_max_scaler.inverse_transform(y_pred)\n",
        "y_test_inv = min_max_scaler.inverse_transform(y_test.reshape(-1,1))"
      ],
      "metadata": {
        "colab": {
          "base_uri": "https://localhost:8080/"
        },
        "id": "pvo_dAEJUMQA",
        "outputId": "2d27998b-b262-47bb-f77d-a868f0876c45"
      },
      "execution_count": null,
      "outputs": [
        {
          "output_type": "stream",
          "name": "stdout",
          "text": [
            "213/213 [==============================] - 1s 3ms/step\n"
          ]
        }
      ]
    },
    {
      "cell_type": "code",
      "source": [
        "mae = history.history['mae']\n",
        "val_mae = history.history['val_mae']\n",
        "epochs = range(1,len(mae)+1)\n",
        "\n",
        "plt.title('Потери на обучающей и валидационной выборках')\n",
        "plt.plot(epochs,mae,color='blue',label='Ошибка обучения (MAE)')\n",
        "plt.plot(epochs,val_mae,color='red',label='Ошибка валидации (MAE)')\n",
        "plt.xlabel('Эпоха')\n",
        "plt.ylabel('Ошибка модели (MAE)')\n",
        "plt.legend()\n",
        "plt.show()"
      ],
      "metadata": {
        "colab": {
          "base_uri": "https://localhost:8080/",
          "height": 295
        },
        "id": "hFf8IdcQKz7W",
        "outputId": "d783c0de-036a-4fd1-e693-8dc385b8adea"
      },
      "execution_count": null,
      "outputs": [
        {
          "output_type": "display_data",
          "data": {
            "text/plain": [
              "<Figure size 432x288 with 1 Axes>"
            ],
            "image/png": "[encoded data removed]"
          },
          "metadata": {
            "needs_background": "light"
          }
        }
      ]
    },
    {
      "cell_type": "code",
      "source": [
        "y_pred = model.predict(X_test)\n",
        "y_pred_inv = min_max_scaler.inverse_transform(y_pred)\n",
        "y_test_inv = min_max_scaler.inverse_transform(y_test.reshape(-1,1))\n",
        "\n",
        "from sklearn.metrics import r2_score,mean_absolute_error\n",
        "\n",
        "print('R2 Score (Test) = ',round(r2_score(y_true=y_test_inv,y_pred=y_pred_inv),3))\n",
        "print('MAE (Test) = ',round(mean_absolute_error(y_true=y_test_inv,\n",
        "                                                     y_pred=y_pred_inv),3))"
      ],
      "metadata": {
        "colab": {
          "base_uri": "https://localhost:8080/"
        },
        "id": "Fyb3VsvRUQ6W",
        "outputId": "e2f0064a-9a7b-467b-9472-d69c3a11b212"
      },
      "execution_count": null,
      "outputs": [
        {
          "output_type": "stream",
          "name": "stdout",
          "text": [
            "213/213 [==============================] - 1s 3ms/step\n",
            "R2 Score (Test) =  0.972\n",
            "MAE (Test) =  1.029\n"
          ]
        }
      ]
    },
    {
      "cell_type": "code",
      "source": [
        "plt.plot(range(1,len(y_test_inv)+1),y_test_inv)\n",
        "plt.plot(range(1,len(y_pred_inv)+1),y_pred_inv)"
      ],
      "metadata": {
        "colab": {
          "base_uri": "https://localhost:8080/",
          "height": 282
        },
        "id": "vVzZm-PxUTi6",
        "outputId": "902d007c-0a73-40ca-d802-234ca9b40bbc"
      },
      "execution_count": null,
      "outputs": [
        {
          "output_type": "execute_result",
          "data": {
            "text/plain": [
              "[<matplotlib.lines.Line2D at 0x7f275cf73490>]"
            ]
          },
          "metadata": {},
          "execution_count": 36
        },
        {
          "output_type": "display_data",
          "data": {
            "text/plain": [
              "<Figure size 432x288 with 1 Axes>"
            ],
            "image/png": "[encoded data removed]"
          },
          "metadata": {
            "needs_background": "light"
          }
        }
      ]
    }
  ]
}